{
 "cells": [
  {
   "cell_type": "code",
   "execution_count": 2,
   "metadata": {},
   "outputs": [],
   "source": [
    "import os\n",
    "import pandas as pd\n",
    "import numpy as np\n",
    "import json\n",
    "\n"
   ]
  },
  {
   "cell_type": "code",
   "execution_count": 20,
   "metadata": {},
   "outputs": [
    {
     "name": "stdout",
     "output_type": "stream",
     "text": [
      "['46']\n"
     ]
    }
   ],
   "source": [
    "from modules import json_preprocess as jp\n",
    "\n",
    "current_dir = os.getcwd()\n",
    "\n",
    "\n",
    "json_path = os.path.join(current_dir, 'sample')\n",
    "Output_pah = os.path.join(current_dir, 'sample/npy')\n",
    "\n",
    "folder_list = jp.get_folder_list(os.path.join(json_path, 'Json'))\n"
   ]
  },
  {
   "cell_type": "code",
   "execution_count": 21,
   "metadata": {},
   "outputs": [
    {
     "name": "stdout",
     "output_type": "stream",
     "text": [
      "Excluding file /mnt/DATA/Projects/Archery/Archery_code/sample/Json/46/46_999_094303_01.json with 3741 frames\n"
     ]
    }
   ],
   "source": [
    "\n",
    "# 900 frame 이하 파일만 저장\n",
    "total_json_files = jp.search_json_files(json_path, 900)\n",
    "max_frame = jp.find_max_frame(total_json_files)"
   ]
  },
  {
   "cell_type": "code",
   "execution_count": 24,
   "metadata": {},
   "outputs": [
    {
     "name": "stdout",
     "output_type": "stream",
     "text": [
      "데이터구조 변환\n",
      "데이터구조 변환\n",
      "데이터구조 변환\n",
      "데이터구조 변환\n",
      "데이터구조 변환\n",
      "데이터구조 변환\n",
      "데이터구조 변환\n",
      "데이터구조 변환\n",
      "데이터구조 변환\n",
      "데이터구조 변환\n",
      "데이터구조 변환\n",
      "데이터구조 변환\n",
      "데이터구조 변환\n",
      "데이터구조 변환\n",
      "데이터구조 변환\n",
      "데이터구조 변환\n",
      "데이터구조 변환\n",
      "데이터구조 변환\n",
      "데이터구조 변환\n",
      "데이터구조 변환\n",
      "데이터구조 변환\n",
      "데이터구조 변환\n",
      "데이터구조 변환\n",
      "데이터구조 변환\n",
      "데이터구조 변환\n",
      "데이터구조 변환\n",
      "데이터구조 변환\n",
      "데이터구조 변환\n",
      "데이터구조 변환\n",
      "데이터구조 변환\n",
      "데이터구조 변환\n",
      "데이터구조 변환\n",
      "데이터구조 변환\n",
      "데이터구조 변환\n",
      "데이터구조 변환\n",
      "데이터구조 변환\n",
      "데이터구조 변환\n",
      "데이터구조 변환\n",
      "데이터구조 변환\n",
      "데이터구조 변환\n",
      "데이터구조 변환\n",
      "데이터구조 변환\n",
      "데이터구조 변환\n",
      "데이터구조 변환\n",
      "데이터구조 변환\n",
      "데이터구조 변환\n",
      "데이터구조 변환\n",
      "데이터구조 변환\n",
      "데이터구조 변환\n",
      "데이터구조 변환\n",
      "데이터구조 변환\n",
      "데이터구조 변환\n",
      "데이터구조 변환\n",
      "데이터구조 변환\n",
      "데이터구조 변환\n",
      "데이터구조 변환\n",
      "데이터구조 변환\n",
      "데이터구조 변환\n",
      "데이터구조 변환\n",
      "데이터구조 변환\n",
      "데이터구조 변환\n",
      "데이터구조 변환\n",
      "데이터구조 변환\n",
      "데이터구조 변환\n",
      "데이터구조 변환\n",
      "데이터구조 변환\n",
      "데이터구조 변환\n",
      "데이터구조 변환\n",
      "데이터구조 변환\n",
      "데이터구조 변환\n"
     ]
    }
   ],
   "source": [
    "for i in total_json_files:\n",
    "    jp.dimensional_check(i)"
   ]
  },
  {
   "cell_type": "code",
   "execution_count": null,
   "metadata": {},
   "outputs": [],
   "source": []
  }
 ],
 "metadata": {
  "kernelspec": {
   "display_name": "Python 3",
   "language": "python",
   "name": "python3"
  },
  "language_info": {
   "codemirror_mode": {
    "name": "ipython",
    "version": 3
   },
   "file_extension": ".py",
   "mimetype": "text/x-python",
   "name": "python",
   "nbconvert_exporter": "python",
   "pygments_lexer": "ipython3",
   "version": "3.10.12"
  }
 },
 "nbformat": 4,
 "nbformat_minor": 2
}
